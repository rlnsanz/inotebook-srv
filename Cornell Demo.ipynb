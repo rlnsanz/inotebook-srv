{
 "cells": [
  {
   "cell_type": "code",
   "execution_count": 7,
   "id": "13815756",
   "metadata": {},
   "outputs": [
    {
     "name": "stdout",
     "output_type": "stream",
     "text": [
      "Error: mkl-service + Intel(R) MKL: MKL_THREADING_LAYER=INTEL is incompatible with libgomp-7c85b1e2.so.1 library.\n",
      "\tTry to import numpy first or set the threading layer accordingly. Set MKL_SERVICE_FORCE_INTEL to force it.\n"
     ]
    }
   ],
   "source": [
    "!python cornell_demo.py --flor"
   ]
  },
  {
   "cell_type": "markdown",
   "id": "765e7dab-2419-4e76-bec6-1c1417e5914d",
   "metadata": {},
   "source": [
    "I would like to query the KVS above:\n",
    "1. Get the loss in a plotting format\n",
    "2. Get the accuracy in a plotting format\n",
    "3. Compose (You are now building a dashboard)"
   ]
  },
  {
   "cell_type": "code",
   "execution_count": 1,
   "id": "7444530e-5e3a-4d13-886a-360b1bfd9f67",
   "metadata": {},
   "outputs": [],
   "source": [
    "import flor"
   ]
  },
  {
   "cell_type": "code",
   "execution_count": 2,
   "id": "cce81ea9-6894-48e6-9236-043b017518ff",
   "metadata": {},
   "outputs": [
    {
     "data": {
      "text/html": [
       "<div>\n",
       "<style scoped>\n",
       "    .dataframe tbody tr th:only-of-type {\n",
       "        vertical-align: middle;\n",
       "    }\n",
       "\n",
       "    .dataframe tbody tr th {\n",
       "        vertical-align: top;\n",
       "    }\n",
       "\n",
       "    .dataframe thead th {\n",
       "        text-align: right;\n",
       "    }\n",
       "</style>\n",
       "<table border=\"1\" class=\"dataframe\">\n",
       "  <thead>\n",
       "    <tr style=\"text-align: right;\">\n",
       "      <th></th>\n",
       "      <th>projid</th>\n",
       "      <th>vid</th>\n",
       "      <th>recrep</th>\n",
       "      <th>epoch</th>\n",
       "      <th>step</th>\n",
       "      <th>name</th>\n",
       "      <th>value</th>\n",
       "    </tr>\n",
       "  </thead>\n",
       "  <tbody>\n",
       "    <tr>\n",
       "      <th>0</th>\n",
       "      <td>cornelldbg</td>\n",
       "      <td>a05e564bcd4caca42f4c50588537f5b3b84e8470</td>\n",
       "      <td>a</td>\n",
       "      <td>1</td>\n",
       "      <td>0</td>\n",
       "      <td>loss</td>\n",
       "      <td>2.295055</td>\n",
       "    </tr>\n",
       "    <tr>\n",
       "      <th>1</th>\n",
       "      <td>cornelldbg</td>\n",
       "      <td>a05e564bcd4caca42f4c50588537f5b3b84e8470</td>\n",
       "      <td>a</td>\n",
       "      <td>1</td>\n",
       "      <td>1</td>\n",
       "      <td>loss</td>\n",
       "      <td>1.178652</td>\n",
       "    </tr>\n",
       "    <tr>\n",
       "      <th>2</th>\n",
       "      <td>cornelldbg</td>\n",
       "      <td>a05e564bcd4caca42f4c50588537f5b3b84e8470</td>\n",
       "      <td>a</td>\n",
       "      <td>1</td>\n",
       "      <td>2</td>\n",
       "      <td>loss</td>\n",
       "      <td>0.822555</td>\n",
       "    </tr>\n",
       "    <tr>\n",
       "      <th>3</th>\n",
       "      <td>cornelldbg</td>\n",
       "      <td>a05e564bcd4caca42f4c50588537f5b3b84e8470</td>\n",
       "      <td>a</td>\n",
       "      <td>1</td>\n",
       "      <td>3</td>\n",
       "      <td>loss</td>\n",
       "      <td>0.820248</td>\n",
       "    </tr>\n",
       "    <tr>\n",
       "      <th>4</th>\n",
       "      <td>cornelldbg</td>\n",
       "      <td>a05e564bcd4caca42f4c50588537f5b3b84e8470</td>\n",
       "      <td>a</td>\n",
       "      <td>1</td>\n",
       "      <td>4</td>\n",
       "      <td>loss</td>\n",
       "      <td>0.578176</td>\n",
       "    </tr>\n",
       "    <tr>\n",
       "      <th>...</th>\n",
       "      <td>...</td>\n",
       "      <td>...</td>\n",
       "      <td>...</td>\n",
       "      <td>...</td>\n",
       "      <td>...</td>\n",
       "      <td>...</td>\n",
       "      <td>...</td>\n",
       "    </tr>\n",
       "    <tr>\n",
       "      <th>1367</th>\n",
       "      <td>cornelldbg</td>\n",
       "      <td>a05e564bcd4caca42f4c50588537f5b3b84e8470</td>\n",
       "      <td>a</td>\n",
       "      <td>14</td>\n",
       "      <td>93</td>\n",
       "      <td>loss</td>\n",
       "      <td>0.022749</td>\n",
       "    </tr>\n",
       "    <tr>\n",
       "      <th>1368</th>\n",
       "      <td>cornelldbg</td>\n",
       "      <td>a05e564bcd4caca42f4c50588537f5b3b84e8470</td>\n",
       "      <td>a</td>\n",
       "      <td>14</td>\n",
       "      <td>0</td>\n",
       "      <td>test-batch</td>\n",
       "      <td>/home/ubuntu/.flor/cornelldbg/data/fb2d052cb21...</td>\n",
       "    </tr>\n",
       "    <tr>\n",
       "      <th>1369</th>\n",
       "      <td>cornelldbg</td>\n",
       "      <td>a05e564bcd4caca42f4c50588537f5b3b84e8470</td>\n",
       "      <td>a</td>\n",
       "      <td>14</td>\n",
       "      <td>0</td>\n",
       "      <td>preds</td>\n",
       "      <td>/home/ubuntu/.flor/cornelldbg/data/5b0cc7409a7...</td>\n",
       "    </tr>\n",
       "    <tr>\n",
       "      <th>1370</th>\n",
       "      <td>cornelldbg</td>\n",
       "      <td>a05e564bcd4caca42f4c50588537f5b3b84e8470</td>\n",
       "      <td>a</td>\n",
       "      <td>14</td>\n",
       "      <td>0</td>\n",
       "      <td>correct</td>\n",
       "      <td>9917</td>\n",
       "    </tr>\n",
       "    <tr>\n",
       "      <th>1371</th>\n",
       "      <td>cornelldbg</td>\n",
       "      <td>a05e564bcd4caca42f4c50588537f5b3b84e8470</td>\n",
       "      <td>a</td>\n",
       "      <td>14</td>\n",
       "      <td>0</td>\n",
       "      <td>acc</td>\n",
       "      <td>99.17</td>\n",
       "    </tr>\n",
       "  </tbody>\n",
       "</table>\n",
       "<p>1372 rows × 7 columns</p>\n",
       "</div>"
      ],
      "text/plain": [
       "          projid                                       vid recrep epoch  step  \\\n",
       "0     cornelldbg  a05e564bcd4caca42f4c50588537f5b3b84e8470      a     1     0   \n",
       "1     cornelldbg  a05e564bcd4caca42f4c50588537f5b3b84e8470      a     1     1   \n",
       "2     cornelldbg  a05e564bcd4caca42f4c50588537f5b3b84e8470      a     1     2   \n",
       "3     cornelldbg  a05e564bcd4caca42f4c50588537f5b3b84e8470      a     1     3   \n",
       "4     cornelldbg  a05e564bcd4caca42f4c50588537f5b3b84e8470      a     1     4   \n",
       "...          ...                                       ...    ...   ...   ...   \n",
       "1367  cornelldbg  a05e564bcd4caca42f4c50588537f5b3b84e8470      a    14    93   \n",
       "1368  cornelldbg  a05e564bcd4caca42f4c50588537f5b3b84e8470      a    14     0   \n",
       "1369  cornelldbg  a05e564bcd4caca42f4c50588537f5b3b84e8470      a    14     0   \n",
       "1370  cornelldbg  a05e564bcd4caca42f4c50588537f5b3b84e8470      a    14     0   \n",
       "1371  cornelldbg  a05e564bcd4caca42f4c50588537f5b3b84e8470      a    14     0   \n",
       "\n",
       "            name                                              value  \n",
       "0           loss                                           2.295055  \n",
       "1           loss                                           1.178652  \n",
       "2           loss                                           0.822555  \n",
       "3           loss                                           0.820248  \n",
       "4           loss                                           0.578176  \n",
       "...          ...                                                ...  \n",
       "1367        loss                                           0.022749  \n",
       "1368  test-batch  /home/ubuntu/.flor/cornelldbg/data/fb2d052cb21...  \n",
       "1369       preds  /home/ubuntu/.flor/cornelldbg/data/5b0cc7409a7...  \n",
       "1370     correct                                               9917  \n",
       "1371         acc                                              99.17  \n",
       "\n",
       "[1372 rows x 7 columns]"
      ]
     },
     "execution_count": 2,
     "metadata": {},
     "output_type": "execute_result"
    }
   ],
   "source": [
    "base_df = flor.load_kvs()\n",
    "base_df"
   ]
  },
  {
   "cell_type": "code",
   "execution_count": 3,
   "id": "f61c912d-6c87-4d51-8a68-f8e3bb0553e7",
   "metadata": {},
   "outputs": [
    {
     "data": {
      "text/html": [
       "<div>\n",
       "<style scoped>\n",
       "    .dataframe tbody tr th:only-of-type {\n",
       "        vertical-align: middle;\n",
       "    }\n",
       "\n",
       "    .dataframe tbody tr th {\n",
       "        vertical-align: top;\n",
       "    }\n",
       "\n",
       "    .dataframe thead th {\n",
       "        text-align: right;\n",
       "    }\n",
       "</style>\n",
       "<table border=\"1\" class=\"dataframe\">\n",
       "  <thead>\n",
       "    <tr style=\"text-align: right;\">\n",
       "      <th></th>\n",
       "      <th>vid</th>\n",
       "    </tr>\n",
       "  </thead>\n",
       "  <tbody>\n",
       "    <tr>\n",
       "      <th>0</th>\n",
       "      <td>a05e564bcd4caca42f4c50588537f5b3b84e8470</td>\n",
       "    </tr>\n",
       "    <tr>\n",
       "      <th>1</th>\n",
       "      <td>a05e564bcd4caca42f4c50588537f5b3b84e8470</td>\n",
       "    </tr>\n",
       "    <tr>\n",
       "      <th>2</th>\n",
       "      <td>a05e564bcd4caca42f4c50588537f5b3b84e8470</td>\n",
       "    </tr>\n",
       "    <tr>\n",
       "      <th>3</th>\n",
       "      <td>a05e564bcd4caca42f4c50588537f5b3b84e8470</td>\n",
       "    </tr>\n",
       "    <tr>\n",
       "      <th>4</th>\n",
       "      <td>a05e564bcd4caca42f4c50588537f5b3b84e8470</td>\n",
       "    </tr>\n",
       "    <tr>\n",
       "      <th>...</th>\n",
       "      <td>...</td>\n",
       "    </tr>\n",
       "    <tr>\n",
       "      <th>1367</th>\n",
       "      <td>a05e564bcd4caca42f4c50588537f5b3b84e8470</td>\n",
       "    </tr>\n",
       "    <tr>\n",
       "      <th>1368</th>\n",
       "      <td>a05e564bcd4caca42f4c50588537f5b3b84e8470</td>\n",
       "    </tr>\n",
       "    <tr>\n",
       "      <th>1369</th>\n",
       "      <td>a05e564bcd4caca42f4c50588537f5b3b84e8470</td>\n",
       "    </tr>\n",
       "    <tr>\n",
       "      <th>1370</th>\n",
       "      <td>a05e564bcd4caca42f4c50588537f5b3b84e8470</td>\n",
       "    </tr>\n",
       "    <tr>\n",
       "      <th>1371</th>\n",
       "      <td>a05e564bcd4caca42f4c50588537f5b3b84e8470</td>\n",
       "    </tr>\n",
       "  </tbody>\n",
       "</table>\n",
       "<p>1372 rows × 1 columns</p>\n",
       "</div>"
      ],
      "text/plain": [
       "                                           vid\n",
       "0     a05e564bcd4caca42f4c50588537f5b3b84e8470\n",
       "1     a05e564bcd4caca42f4c50588537f5b3b84e8470\n",
       "2     a05e564bcd4caca42f4c50588537f5b3b84e8470\n",
       "3     a05e564bcd4caca42f4c50588537f5b3b84e8470\n",
       "4     a05e564bcd4caca42f4c50588537f5b3b84e8470\n",
       "...                                        ...\n",
       "1367  a05e564bcd4caca42f4c50588537f5b3b84e8470\n",
       "1368  a05e564bcd4caca42f4c50588537f5b3b84e8470\n",
       "1369  a05e564bcd4caca42f4c50588537f5b3b84e8470\n",
       "1370  a05e564bcd4caca42f4c50588537f5b3b84e8470\n",
       "1371  a05e564bcd4caca42f4c50588537f5b3b84e8470\n",
       "\n",
       "[1372 rows x 1 columns]"
      ]
     },
     "execution_count": 3,
     "metadata": {},
     "output_type": "execute_result"
    }
   ],
   "source": [
    "SELECT = ['vid']\n",
    "FROM = base_df\n",
    "WHERE = (base_df['projid'] == 'cornelldbg') \n",
    "\n",
    "q = FROM.loc[WHERE, SELECT]\n",
    "q"
   ]
  },
  {
   "cell_type": "code",
   "execution_count": 4,
   "id": "feb08c17-427d-469e-8e1e-cb892ad813e3",
   "metadata": {},
   "outputs": [
    {
     "data": {
      "text/plain": [
       "['a05e564bcd4caca42f4c50588537f5b3b84e8470']"
      ]
     },
     "execution_count": 4,
     "metadata": {},
     "output_type": "execute_result"
    }
   ],
   "source": [
    "q['vid'].drop_duplicates().to_list()"
   ]
  },
  {
   "cell_type": "code",
   "execution_count": 5,
   "id": "1ff065a9-fb76-4375-8724-d646ec310177",
   "metadata": {
    "tags": []
   },
   "outputs": [],
   "source": [
    "from sh import tail\n",
    "import json"
   ]
  },
  {
   "cell_type": "code",
   "execution_count": 6,
   "id": "67ea1d52-41f1-4239-82a6-04db9656a931",
   "metadata": {
    "tags": []
   },
   "outputs": [
    {
     "name": "stderr",
     "output_type": "stream",
     "text": [
      "Exception in thread background thread for pid 11717:\n",
      "Traceback (most recent call last):\n",
      "  File \"/home/ubuntu/anaconda3/envs/pytorch_latest_p37/lib/python3.7/threading.py\", line 926, in _bootstrap_inner\n",
      "    self.run()\n",
      "  File \"/home/ubuntu/anaconda3/envs/pytorch_latest_p37/lib/python3.7/threading.py\", line 870, in run\n",
      "    self._target(*self._args, **self._kwargs)\n",
      "  File \"/home/ubuntu/anaconda3/envs/pytorch_latest_p37/lib/python3.7/site-packages/sh.py\", line 1683, in wrap\n",
      "    fn(*rgs, **kwargs)\n",
      "  File \"/home/ubuntu/anaconda3/envs/pytorch_latest_p37/lib/python3.7/site-packages/sh.py\", line 2662, in background_thread\n",
      "    handle_exit_code(exit_code)\n",
      "  File \"/home/ubuntu/anaconda3/envs/pytorch_latest_p37/lib/python3.7/site-packages/sh.py\", line 2349, in fn\n",
      "    return self.command.handle_command_exit_code(exit_code)\n",
      "  File \"/home/ubuntu/anaconda3/envs/pytorch_latest_p37/lib/python3.7/site-packages/sh.py\", line 905, in handle_command_exit_code\n",
      "    raise exc\n",
      "sh.ErrorReturnCode_1: \n",
      "\n",
      "  RAN: /usr/bin/tail -1 a05e564bcd4caca42f4c50588537f5b3b84e8470\n",
      "\n",
      "  STDOUT:\n",
      "\n",
      "\n",
      "  STDERR:\n",
      "/usr/bin/tail: cannot open 'a05e564bcd4caca42f4c50588537f5b3b84e8470' for reading: No such file or directory\n",
      "\n",
      "\n"
     ]
    },
    {
     "ename": "ErrorReturnCode_1",
     "evalue": "\n\n  RAN: /usr/bin/tail -1 a05e564bcd4caca42f4c50588537f5b3b84e8470\n\n  STDOUT:\n\n\n  STDERR:\n/usr/bin/tail: cannot open 'a05e564bcd4caca42f4c50588537f5b3b84e8470' for reading: No such file or directory\n",
     "output_type": "error",
     "traceback": [
      "\u001b[0;31m---------------------------------------------------------------------------\u001b[0m",
      "\u001b[0;31mErrorReturnCode_1\u001b[0m                         Traceback (most recent call last)",
      "\u001b[0;32m<ipython-input-6-926180310876>\u001b[0m in \u001b[0;36m<module>\u001b[0;34m\u001b[0m\n\u001b[1;32m      1\u001b[0m \u001b[0mds\u001b[0m \u001b[0;34m=\u001b[0m \u001b[0;34m[\u001b[0m\u001b[0;34m]\u001b[0m\u001b[0;34m\u001b[0m\u001b[0;34m\u001b[0m\u001b[0m\n\u001b[1;32m      2\u001b[0m \u001b[0;32mfor\u001b[0m \u001b[0mpath\u001b[0m \u001b[0;32min\u001b[0m \u001b[0mq\u001b[0m\u001b[0;34m[\u001b[0m\u001b[0;34m'vid'\u001b[0m\u001b[0;34m]\u001b[0m\u001b[0;34m.\u001b[0m\u001b[0mdrop_duplicates\u001b[0m\u001b[0;34m(\u001b[0m\u001b[0;34m)\u001b[0m\u001b[0;34m.\u001b[0m\u001b[0mto_list\u001b[0m\u001b[0;34m(\u001b[0m\u001b[0;34m)\u001b[0m\u001b[0;34m:\u001b[0m\u001b[0;34m\u001b[0m\u001b[0;34m\u001b[0m\u001b[0m\n\u001b[0;32m----> 3\u001b[0;31m     \u001b[0meof\u001b[0m \u001b[0;34m=\u001b[0m \u001b[0mtail\u001b[0m\u001b[0;34m(\u001b[0m\u001b[0;34m'-1'\u001b[0m\u001b[0;34m,\u001b[0m \u001b[0mpath\u001b[0m\u001b[0;34m,\u001b[0m \u001b[0m_iter\u001b[0m\u001b[0;34m=\u001b[0m\u001b[0;32mTrue\u001b[0m\u001b[0;34m)\u001b[0m\u001b[0;34m.\u001b[0m\u001b[0mnext\u001b[0m\u001b[0;34m(\u001b[0m\u001b[0;34m)\u001b[0m\u001b[0;34m\u001b[0m\u001b[0;34m\u001b[0m\u001b[0m\n\u001b[0m\u001b[1;32m      4\u001b[0m     \u001b[0mds\u001b[0m\u001b[0;34m.\u001b[0m\u001b[0mappend\u001b[0m\u001b[0;34m(\u001b[0m\u001b[0mjson\u001b[0m\u001b[0;34m.\u001b[0m\u001b[0mloads\u001b[0m\u001b[0;34m(\u001b[0m\u001b[0meof\u001b[0m\u001b[0;34m)\u001b[0m\u001b[0;34m)\u001b[0m\u001b[0;34m\u001b[0m\u001b[0;34m\u001b[0m\u001b[0m\n\u001b[1;32m      5\u001b[0m \u001b[0mds\u001b[0m\u001b[0;34m\u001b[0m\u001b[0;34m\u001b[0m\u001b[0m\n",
      "\u001b[0;32m~/anaconda3/envs/pytorch_latest_p37/lib/python3.7/site-packages/sh.py\u001b[0m in \u001b[0;36mnext\u001b[0;34m(self)\u001b[0m\n\u001b[1;32m    951\u001b[0m             \u001b[0;32melse\u001b[0m\u001b[0;34m:\u001b[0m\u001b[0;34m\u001b[0m\u001b[0;34m\u001b[0m\u001b[0m\n\u001b[1;32m    952\u001b[0m                 \u001b[0;32mif\u001b[0m \u001b[0mchunk\u001b[0m \u001b[0;32mis\u001b[0m \u001b[0;32mNone\u001b[0m\u001b[0;34m:\u001b[0m\u001b[0;34m\u001b[0m\u001b[0;34m\u001b[0m\u001b[0m\n\u001b[0;32m--> 953\u001b[0;31m                     \u001b[0mself\u001b[0m\u001b[0;34m.\u001b[0m\u001b[0mwait\u001b[0m\u001b[0;34m(\u001b[0m\u001b[0;34m)\u001b[0m\u001b[0;34m\u001b[0m\u001b[0;34m\u001b[0m\u001b[0m\n\u001b[0m\u001b[1;32m    954\u001b[0m                     \u001b[0mself\u001b[0m\u001b[0;34m.\u001b[0m\u001b[0m_stopped_iteration\u001b[0m \u001b[0;34m=\u001b[0m \u001b[0;32mTrue\u001b[0m\u001b[0;34m\u001b[0m\u001b[0;34m\u001b[0m\u001b[0m\n\u001b[1;32m    955\u001b[0m                     \u001b[0;32mraise\u001b[0m \u001b[0mStopIteration\u001b[0m\u001b[0;34m(\u001b[0m\u001b[0;34m)\u001b[0m\u001b[0;34m\u001b[0m\u001b[0;34m\u001b[0m\u001b[0m\n",
      "\u001b[0;32m~/anaconda3/envs/pytorch_latest_p37/lib/python3.7/site-packages/sh.py\u001b[0m in \u001b[0;36mwait\u001b[0;34m(self, timeout)\u001b[0m\n\u001b[1;32m    877\u001b[0m \u001b[0;34m\u001b[0m\u001b[0m\n\u001b[1;32m    878\u001b[0m             \u001b[0;32melse\u001b[0m\u001b[0;34m:\u001b[0m\u001b[0;34m\u001b[0m\u001b[0;34m\u001b[0m\u001b[0m\n\u001b[0;32m--> 879\u001b[0;31m                 \u001b[0mself\u001b[0m\u001b[0;34m.\u001b[0m\u001b[0mhandle_command_exit_code\u001b[0m\u001b[0;34m(\u001b[0m\u001b[0mexit_code\u001b[0m\u001b[0;34m)\u001b[0m\u001b[0;34m\u001b[0m\u001b[0;34m\u001b[0m\u001b[0m\n\u001b[0m\u001b[1;32m    880\u001b[0m \u001b[0;34m\u001b[0m\u001b[0m\n\u001b[1;32m    881\u001b[0m                 \u001b[0;31m# if an iterable command is using an instance of OProc for its stdin,\u001b[0m\u001b[0;34m\u001b[0m\u001b[0;34m\u001b[0m\u001b[0;34m\u001b[0m\u001b[0m\n",
      "\u001b[0;32m~/anaconda3/envs/pytorch_latest_p37/lib/python3.7/site-packages/sh.py\u001b[0m in \u001b[0;36mhandle_command_exit_code\u001b[0;34m(self, code)\u001b[0m\n\u001b[1;32m    903\u001b[0m                 \u001b[0mself\u001b[0m\u001b[0;34m.\u001b[0m\u001b[0mran\u001b[0m\u001b[0;34m,\u001b[0m \u001b[0mself\u001b[0m\u001b[0;34m.\u001b[0m\u001b[0mprocess\u001b[0m\u001b[0;34m.\u001b[0m\u001b[0mstdout\u001b[0m\u001b[0;34m,\u001b[0m \u001b[0mself\u001b[0m\u001b[0;34m.\u001b[0m\u001b[0mprocess\u001b[0m\u001b[0;34m.\u001b[0m\u001b[0mstderr\u001b[0m\u001b[0;34m,\u001b[0m \u001b[0mca\u001b[0m\u001b[0;34m[\u001b[0m\u001b[0;34m\"truncate_exc\"\u001b[0m\u001b[0;34m]\u001b[0m\u001b[0;34m\u001b[0m\u001b[0;34m\u001b[0m\u001b[0m\n\u001b[1;32m    904\u001b[0m             )\n\u001b[0;32m--> 905\u001b[0;31m             \u001b[0;32mraise\u001b[0m \u001b[0mexc\u001b[0m\u001b[0;34m\u001b[0m\u001b[0;34m\u001b[0m\u001b[0m\n\u001b[0m\u001b[1;32m    906\u001b[0m \u001b[0;34m\u001b[0m\u001b[0m\n\u001b[1;32m    907\u001b[0m     \u001b[0;34m@\u001b[0m\u001b[0mproperty\u001b[0m\u001b[0;34m\u001b[0m\u001b[0;34m\u001b[0m\u001b[0m\n",
      "\u001b[0;31mErrorReturnCode_1\u001b[0m: \n\n  RAN: /usr/bin/tail -1 a05e564bcd4caca42f4c50588537f5b3b84e8470\n\n  STDOUT:\n\n\n  STDERR:\n/usr/bin/tail: cannot open 'a05e564bcd4caca42f4c50588537f5b3b84e8470' for reading: No such file or directory\n"
     ]
    }
   ],
   "source": [
    "ds = []\n",
    "for path in q['vid'].drop_duplicates().to_list():\n",
    "    eof = tail('-1', path, _iter=True).next()\n",
    "    ds.append(json.loads(eof))\n",
    "ds"
   ]
  },
  {
   "cell_type": "code",
   "execution_count": null,
   "id": "2f60391c-6388-4817-9572-3655cbbc95d9",
   "metadata": {
    "tags": []
   },
   "outputs": [],
   "source": [
    "! tail -1 '/home/ubuntu/.flor/cornelldbg/2022-01-31T14:11:24.json'"
   ]
  },
  {
   "cell_type": "code",
   "execution_count": null,
   "id": "def556e2",
   "metadata": {},
   "outputs": [],
   "source": [
    "vid_mapper = {'/home/ubuntu/.flor/cornelldbg/2022-01-31T14:11:24.json': \"a05e564bcd4caca42f4c50588537f5b3b84e8470\"}"
   ]
  },
  {
   "cell_type": "code",
   "execution_count": null,
   "id": "c90bc366",
   "metadata": {},
   "outputs": [],
   "source": [
    "q['vid'] = q['vid'].apply(lambda x: vid_mapper[x])"
   ]
  },
  {
   "cell_type": "code",
   "execution_count": null,
   "id": "fd1ac52b",
   "metadata": {},
   "outputs": [],
   "source": [
    "q['vid']"
   ]
  },
  {
   "cell_type": "markdown",
   "id": "60b64e7f-616f-4fd2-8c54-a06de0dd67b0",
   "metadata": {},
   "source": [
    "### Now I want to see some tensorboard logging\n",
    "1. log the loss and show in dashboard // or matplotlib your own\n",
    "2. hindsight log error points and backpropagate.\n"
   ]
  },
  {
   "cell_type": "markdown",
   "id": "c610e8fb-209c-43c4-9492-672a0da2f58c",
   "metadata": {},
   "source": [
    "Let's first get error points"
   ]
  },
  {
   "cell_type": "code",
   "execution_count": null,
   "id": "4dfe0dc7-ae1a-4f84-8510-bbb031dcba8e",
   "metadata": {
    "tags": []
   },
   "outputs": [],
   "source": [
    "!ls"
   ]
  },
  {
   "cell_type": "code",
   "execution_count": null,
   "id": "64fbc202-2b43-4c80-aabe-1c092f32529b",
   "metadata": {},
   "outputs": [],
   "source": [
    "flor.flags.NAME"
   ]
  },
  {
   "cell_type": "code",
   "execution_count": null,
   "id": "e9b4f219-2ceb-4b1f-baea-337ce1d6cd97",
   "metadata": {},
   "outputs": [],
   "source": [
    "flor.flags.INDEX"
   ]
  },
  {
   "cell_type": "code",
   "execution_count": null,
   "id": "0bd53064-c63d-43e1-961f-72a6b549b067",
   "metadata": {},
   "outputs": [],
   "source": [
    "k = '1.loss'"
   ]
  },
  {
   "cell_type": "code",
   "execution_count": null,
   "id": "0af6596e-addd-4ddd-b3b5-0a61645e0ad0",
   "metadata": {},
   "outputs": [],
   "source": [
    "int(k.split('.')[0])"
   ]
  },
  {
   "cell_type": "code",
   "execution_count": null,
   "id": "85565d58-befa-45f9-a794-ddd2ba5d74ec",
   "metadata": {},
   "outputs": [],
   "source": [
    "'.'.join(k.split('.')[1:])"
   ]
  },
  {
   "cell_type": "code",
   "execution_count": null,
   "id": "ccb9a168-e8d1-4642-832b-d428f0a90e56",
   "metadata": {},
   "outputs": [],
   "source": [
    "!cat .replay.json"
   ]
  },
  {
   "cell_type": "code",
   "execution_count": null,
   "id": "539c5ae1-d2bd-412c-beec-e833bc785454",
   "metadata": {},
   "outputs": [],
   "source": []
  },
  {
   "cell_type": "code",
   "execution_count": null,
   "id": "2225f516-4e6f-423f-b750-7cfca3116c3c",
   "metadata": {},
   "outputs": [],
   "source": []
  }
 ],
 "metadata": {
  "interpreter": {
   "hash": "f9dc663c12342db218673069099c5f4d734584a05de3b02b725edaf289dd9612"
  },
  "kernelspec": {
   "display_name": "Environment (conda_pytorch_latest_p37)",
   "language": "python",
   "name": "python3"
  },
  "language_info": {
   "codemirror_mode": {
    "name": "ipython",
    "version": 3
   },
   "file_extension": ".py",
   "mimetype": "text/x-python",
   "name": "python",
   "nbconvert_exporter": "python",
   "pygments_lexer": "ipython3",
   "version": "3.7.10"
  }
 },
 "nbformat": 4,
 "nbformat_minor": 5
}
