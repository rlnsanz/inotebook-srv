{
 "cells": [
  {
   "cell_type": "code",
   "execution_count": 9,
   "id": "13815756",
   "metadata": {},
   "outputs": [
    {
     "name": "stdout",
     "output_type": "stream",
     "text": [
      "Error: mkl-service + Intel(R) MKL: MKL_THREADING_LAYER=INTEL is incompatible with libgomp-7c85b1e2.so.1 library.\n",
      "\tTry to import numpy first or set the threading layer accordingly. Set MKL_SERVICE_FORCE_INTEL to force it.\n"
     ]
    }
   ],
   "source": [
    "!python cornell_demo.py --replay_flor"
   ]
  },
  {
   "cell_type": "markdown",
   "id": "765e7dab-2419-4e76-bec6-1c1417e5914d",
   "metadata": {},
   "source": [
    "I would like to query the KVS above:\n",
    "1. Get the loss in a plotting format\n",
    "2. Get the accuracy in a plotting format\n",
    "3. Compose (You are now building a dashboard)"
   ]
  },
  {
   "cell_type": "code",
   "execution_count": 4,
   "id": "7444530e-5e3a-4d13-886a-360b1bfd9f67",
   "metadata": {},
   "outputs": [],
   "source": [
    "import flor"
   ]
  },
  {
   "cell_type": "code",
   "execution_count": 5,
   "id": "cce81ea9-6894-48e6-9236-043b017518ff",
   "metadata": {},
   "outputs": [
    {
     "data": {
      "text/html": [
       "<div>\n",
       "<style scoped>\n",
       "    .dataframe tbody tr th:only-of-type {\n",
       "        vertical-align: middle;\n",
       "    }\n",
       "\n",
       "    .dataframe tbody tr th {\n",
       "        vertical-align: top;\n",
       "    }\n",
       "\n",
       "    .dataframe thead th {\n",
       "        text-align: right;\n",
       "    }\n",
       "</style>\n",
       "<table border=\"1\" class=\"dataframe\">\n",
       "  <thead>\n",
       "    <tr style=\"text-align: right;\">\n",
       "      <th></th>\n",
       "      <th>projid</th>\n",
       "      <th>vid</th>\n",
       "      <th>recrep</th>\n",
       "      <th>epoch</th>\n",
       "      <th>step</th>\n",
       "      <th>name</th>\n",
       "      <th>value</th>\n",
       "    </tr>\n",
       "  </thead>\n",
       "  <tbody>\n",
       "    <tr>\n",
       "      <th>0</th>\n",
       "      <td>cornelldbg</td>\n",
       "      <td>e9c6854bc02c3948402d8b2f82715fa151ab4d2f</td>\n",
       "      <td>a</td>\n",
       "      <td>1</td>\n",
       "      <td>0</td>\n",
       "      <td>loss</td>\n",
       "      <td>2.346754</td>\n",
       "    </tr>\n",
       "    <tr>\n",
       "      <th>1</th>\n",
       "      <td>cornelldbg</td>\n",
       "      <td>e9c6854bc02c3948402d8b2f82715fa151ab4d2f</td>\n",
       "      <td>a</td>\n",
       "      <td>1</td>\n",
       "      <td>1</td>\n",
       "      <td>loss</td>\n",
       "      <td>1.363249</td>\n",
       "    </tr>\n",
       "    <tr>\n",
       "      <th>2</th>\n",
       "      <td>cornelldbg</td>\n",
       "      <td>e9c6854bc02c3948402d8b2f82715fa151ab4d2f</td>\n",
       "      <td>a</td>\n",
       "      <td>1</td>\n",
       "      <td>2</td>\n",
       "      <td>loss</td>\n",
       "      <td>1.074892</td>\n",
       "    </tr>\n",
       "    <tr>\n",
       "      <th>3</th>\n",
       "      <td>cornelldbg</td>\n",
       "      <td>e9c6854bc02c3948402d8b2f82715fa151ab4d2f</td>\n",
       "      <td>a</td>\n",
       "      <td>1</td>\n",
       "      <td>3</td>\n",
       "      <td>loss</td>\n",
       "      <td>0.302338</td>\n",
       "    </tr>\n",
       "    <tr>\n",
       "      <th>4</th>\n",
       "      <td>cornelldbg</td>\n",
       "      <td>e9c6854bc02c3948402d8b2f82715fa151ab4d2f</td>\n",
       "      <td>a</td>\n",
       "      <td>1</td>\n",
       "      <td>4</td>\n",
       "      <td>loss</td>\n",
       "      <td>0.540044</td>\n",
       "    </tr>\n",
       "    <tr>\n",
       "      <th>...</th>\n",
       "      <td>...</td>\n",
       "      <td>...</td>\n",
       "      <td>...</td>\n",
       "      <td>...</td>\n",
       "      <td>...</td>\n",
       "      <td>...</td>\n",
       "      <td>...</td>\n",
       "    </tr>\n",
       "    <tr>\n",
       "      <th>4223</th>\n",
       "      <td>cornelldbg</td>\n",
       "      <td>ceadd3c3d372499140c6acc35c4fdf7196453c2a</td>\n",
       "      <td>a</td>\n",
       "      <td>14</td>\n",
       "      <td>93</td>\n",
       "      <td>loss</td>\n",
       "      <td>0.005331</td>\n",
       "    </tr>\n",
       "    <tr>\n",
       "      <th>4224</th>\n",
       "      <td>cornelldbg</td>\n",
       "      <td>ceadd3c3d372499140c6acc35c4fdf7196453c2a</td>\n",
       "      <td>a</td>\n",
       "      <td>14</td>\n",
       "      <td>0</td>\n",
       "      <td>test-batch</td>\n",
       "      <td>/home/ubuntu/.flor/cornelldbg/data/cf1dcf2e2d8...</td>\n",
       "    </tr>\n",
       "    <tr>\n",
       "      <th>4225</th>\n",
       "      <td>cornelldbg</td>\n",
       "      <td>ceadd3c3d372499140c6acc35c4fdf7196453c2a</td>\n",
       "      <td>a</td>\n",
       "      <td>14</td>\n",
       "      <td>0</td>\n",
       "      <td>preds</td>\n",
       "      <td>/home/ubuntu/.flor/cornelldbg/data/274baf7eaf2...</td>\n",
       "    </tr>\n",
       "    <tr>\n",
       "      <th>4226</th>\n",
       "      <td>cornelldbg</td>\n",
       "      <td>ceadd3c3d372499140c6acc35c4fdf7196453c2a</td>\n",
       "      <td>a</td>\n",
       "      <td>14</td>\n",
       "      <td>0</td>\n",
       "      <td>correct</td>\n",
       "      <td>9918</td>\n",
       "    </tr>\n",
       "    <tr>\n",
       "      <th>4227</th>\n",
       "      <td>cornelldbg</td>\n",
       "      <td>ceadd3c3d372499140c6acc35c4fdf7196453c2a</td>\n",
       "      <td>a</td>\n",
       "      <td>14</td>\n",
       "      <td>0</td>\n",
       "      <td>acc</td>\n",
       "      <td>99.18</td>\n",
       "    </tr>\n",
       "  </tbody>\n",
       "</table>\n",
       "<p>4228 rows × 7 columns</p>\n",
       "</div>"
      ],
      "text/plain": [
       "          projid                                       vid recrep epoch  step  \\\n",
       "0     cornelldbg  e9c6854bc02c3948402d8b2f82715fa151ab4d2f      a     1     0   \n",
       "1     cornelldbg  e9c6854bc02c3948402d8b2f82715fa151ab4d2f      a     1     1   \n",
       "2     cornelldbg  e9c6854bc02c3948402d8b2f82715fa151ab4d2f      a     1     2   \n",
       "3     cornelldbg  e9c6854bc02c3948402d8b2f82715fa151ab4d2f      a     1     3   \n",
       "4     cornelldbg  e9c6854bc02c3948402d8b2f82715fa151ab4d2f      a     1     4   \n",
       "...          ...                                       ...    ...   ...   ...   \n",
       "4223  cornelldbg  ceadd3c3d372499140c6acc35c4fdf7196453c2a      a    14    93   \n",
       "4224  cornelldbg  ceadd3c3d372499140c6acc35c4fdf7196453c2a      a    14     0   \n",
       "4225  cornelldbg  ceadd3c3d372499140c6acc35c4fdf7196453c2a      a    14     0   \n",
       "4226  cornelldbg  ceadd3c3d372499140c6acc35c4fdf7196453c2a      a    14     0   \n",
       "4227  cornelldbg  ceadd3c3d372499140c6acc35c4fdf7196453c2a      a    14     0   \n",
       "\n",
       "            name                                              value  \n",
       "0           loss                                           2.346754  \n",
       "1           loss                                           1.363249  \n",
       "2           loss                                           1.074892  \n",
       "3           loss                                           0.302338  \n",
       "4           loss                                           0.540044  \n",
       "...          ...                                                ...  \n",
       "4223        loss                                           0.005331  \n",
       "4224  test-batch  /home/ubuntu/.flor/cornelldbg/data/cf1dcf2e2d8...  \n",
       "4225       preds  /home/ubuntu/.flor/cornelldbg/data/274baf7eaf2...  \n",
       "4226     correct                                               9918  \n",
       "4227         acc                                              99.18  \n",
       "\n",
       "[4228 rows x 7 columns]"
      ]
     },
     "execution_count": 5,
     "metadata": {},
     "output_type": "execute_result"
    }
   ],
   "source": [
    "base_df = flor.load_kvs()\n",
    "base_df"
   ]
  },
  {
   "cell_type": "code",
   "execution_count": 7,
   "id": "f61c912d-6c87-4d51-8a68-f8e3bb0553e7",
   "metadata": {},
   "outputs": [
    {
     "data": {
      "text/html": [
       "<div>\n",
       "<style scoped>\n",
       "    .dataframe tbody tr th:only-of-type {\n",
       "        vertical-align: middle;\n",
       "    }\n",
       "\n",
       "    .dataframe tbody tr th {\n",
       "        vertical-align: top;\n",
       "    }\n",
       "\n",
       "    .dataframe thead th {\n",
       "        text-align: right;\n",
       "    }\n",
       "</style>\n",
       "<table border=\"1\" class=\"dataframe\">\n",
       "  <thead>\n",
       "    <tr style=\"text-align: right;\">\n",
       "      <th></th>\n",
       "      <th>projid</th>\n",
       "      <th>vid</th>\n",
       "      <th>recrep</th>\n",
       "      <th>epoch</th>\n",
       "      <th>step</th>\n",
       "      <th>name</th>\n",
       "      <th>value</th>\n",
       "    </tr>\n",
       "  </thead>\n",
       "  <tbody>\n",
       "    <tr>\n",
       "      <th>2744</th>\n",
       "      <td>cornelldbg</td>\n",
       "      <td>a05e564bcd4caca42f4c50588537f5b3b84e8470</td>\n",
       "      <td>b</td>\n",
       "      <td>1</td>\n",
       "      <td>0</td>\n",
       "      <td>test-batch</td>\n",
       "      <td>/home/ubuntu/.flor/cornelldbg/data/1f8ac9247b6...</td>\n",
       "    </tr>\n",
       "    <tr>\n",
       "      <th>2745</th>\n",
       "      <td>cornelldbg</td>\n",
       "      <td>a05e564bcd4caca42f4c50588537f5b3b84e8470</td>\n",
       "      <td>b</td>\n",
       "      <td>1</td>\n",
       "      <td>1</td>\n",
       "      <td>test-batch</td>\n",
       "      <td>/home/ubuntu/.flor/cornelldbg/data/4ce52635a33...</td>\n",
       "    </tr>\n",
       "    <tr>\n",
       "      <th>2746</th>\n",
       "      <td>cornelldbg</td>\n",
       "      <td>a05e564bcd4caca42f4c50588537f5b3b84e8470</td>\n",
       "      <td>b</td>\n",
       "      <td>1</td>\n",
       "      <td>0</td>\n",
       "      <td>preds</td>\n",
       "      <td>/home/ubuntu/.flor/cornelldbg/data/beecb97fc11...</td>\n",
       "    </tr>\n",
       "    <tr>\n",
       "      <th>2747</th>\n",
       "      <td>cornelldbg</td>\n",
       "      <td>a05e564bcd4caca42f4c50588537f5b3b84e8470</td>\n",
       "      <td>b</td>\n",
       "      <td>1</td>\n",
       "      <td>1</td>\n",
       "      <td>preds</td>\n",
       "      <td>/home/ubuntu/.flor/cornelldbg/data/00fc376944c...</td>\n",
       "    </tr>\n",
       "    <tr>\n",
       "      <th>2748</th>\n",
       "      <td>cornelldbg</td>\n",
       "      <td>a05e564bcd4caca42f4c50588537f5b3b84e8470</td>\n",
       "      <td>b</td>\n",
       "      <td>1</td>\n",
       "      <td>0</td>\n",
       "      <td>correct</td>\n",
       "      <td>9859</td>\n",
       "    </tr>\n",
       "    <tr>\n",
       "      <th>...</th>\n",
       "      <td>...</td>\n",
       "      <td>...</td>\n",
       "      <td>...</td>\n",
       "      <td>...</td>\n",
       "      <td>...</td>\n",
       "      <td>...</td>\n",
       "      <td>...</td>\n",
       "    </tr>\n",
       "    <tr>\n",
       "      <th>2851</th>\n",
       "      <td>cornelldbg</td>\n",
       "      <td>a05e564bcd4caca42f4c50588537f5b3b84e8470</td>\n",
       "      <td>b</td>\n",
       "      <td>14</td>\n",
       "      <td>1</td>\n",
       "      <td>preds</td>\n",
       "      <td>/home/ubuntu/.flor/cornelldbg/data/e3c47134bd0...</td>\n",
       "    </tr>\n",
       "    <tr>\n",
       "      <th>2852</th>\n",
       "      <td>cornelldbg</td>\n",
       "      <td>a05e564bcd4caca42f4c50588537f5b3b84e8470</td>\n",
       "      <td>b</td>\n",
       "      <td>14</td>\n",
       "      <td>0</td>\n",
       "      <td>correct</td>\n",
       "      <td>9917</td>\n",
       "    </tr>\n",
       "    <tr>\n",
       "      <th>2853</th>\n",
       "      <td>cornelldbg</td>\n",
       "      <td>a05e564bcd4caca42f4c50588537f5b3b84e8470</td>\n",
       "      <td>b</td>\n",
       "      <td>14</td>\n",
       "      <td>1</td>\n",
       "      <td>correct</td>\n",
       "      <td>9917</td>\n",
       "    </tr>\n",
       "    <tr>\n",
       "      <th>2854</th>\n",
       "      <td>cornelldbg</td>\n",
       "      <td>a05e564bcd4caca42f4c50588537f5b3b84e8470</td>\n",
       "      <td>b</td>\n",
       "      <td>14</td>\n",
       "      <td>0</td>\n",
       "      <td>acc</td>\n",
       "      <td>99.17</td>\n",
       "    </tr>\n",
       "    <tr>\n",
       "      <th>2855</th>\n",
       "      <td>cornelldbg</td>\n",
       "      <td>a05e564bcd4caca42f4c50588537f5b3b84e8470</td>\n",
       "      <td>b</td>\n",
       "      <td>14</td>\n",
       "      <td>1</td>\n",
       "      <td>acc</td>\n",
       "      <td>99.17</td>\n",
       "    </tr>\n",
       "  </tbody>\n",
       "</table>\n",
       "<p>112 rows × 7 columns</p>\n",
       "</div>"
      ],
      "text/plain": [
       "          projid                                       vid recrep epoch  step  \\\n",
       "2744  cornelldbg  a05e564bcd4caca42f4c50588537f5b3b84e8470      b     1     0   \n",
       "2745  cornelldbg  a05e564bcd4caca42f4c50588537f5b3b84e8470      b     1     1   \n",
       "2746  cornelldbg  a05e564bcd4caca42f4c50588537f5b3b84e8470      b     1     0   \n",
       "2747  cornelldbg  a05e564bcd4caca42f4c50588537f5b3b84e8470      b     1     1   \n",
       "2748  cornelldbg  a05e564bcd4caca42f4c50588537f5b3b84e8470      b     1     0   \n",
       "...          ...                                       ...    ...   ...   ...   \n",
       "2851  cornelldbg  a05e564bcd4caca42f4c50588537f5b3b84e8470      b    14     1   \n",
       "2852  cornelldbg  a05e564bcd4caca42f4c50588537f5b3b84e8470      b    14     0   \n",
       "2853  cornelldbg  a05e564bcd4caca42f4c50588537f5b3b84e8470      b    14     1   \n",
       "2854  cornelldbg  a05e564bcd4caca42f4c50588537f5b3b84e8470      b    14     0   \n",
       "2855  cornelldbg  a05e564bcd4caca42f4c50588537f5b3b84e8470      b    14     1   \n",
       "\n",
       "            name                                              value  \n",
       "2744  test-batch  /home/ubuntu/.flor/cornelldbg/data/1f8ac9247b6...  \n",
       "2745  test-batch  /home/ubuntu/.flor/cornelldbg/data/4ce52635a33...  \n",
       "2746       preds  /home/ubuntu/.flor/cornelldbg/data/beecb97fc11...  \n",
       "2747       preds  /home/ubuntu/.flor/cornelldbg/data/00fc376944c...  \n",
       "2748     correct                                               9859  \n",
       "...          ...                                                ...  \n",
       "2851       preds  /home/ubuntu/.flor/cornelldbg/data/e3c47134bd0...  \n",
       "2852     correct                                               9917  \n",
       "2853     correct                                               9917  \n",
       "2854         acc                                              99.17  \n",
       "2855         acc                                              99.17  \n",
       "\n",
       "[112 rows x 7 columns]"
      ]
     },
     "execution_count": 7,
     "metadata": {},
     "output_type": "execute_result"
    }
   ],
   "source": [
    "SELECT = base_df.columns\n",
    "FROM = base_df\n",
    "WHERE = (base_df['recrep'] == 'b') \n",
    "\n",
    "q = FROM.loc[WHERE, SELECT]\n",
    "q"
   ]
  },
  {
   "cell_type": "code",
   "execution_count": 8,
   "id": "feb08c17-427d-469e-8e1e-cb892ad813e3",
   "metadata": {},
   "outputs": [
    {
     "data": {
      "text/plain": [
       "['a05e564bcd4caca42f4c50588537f5b3b84e8470']"
      ]
     },
     "execution_count": 8,
     "metadata": {},
     "output_type": "execute_result"
    }
   ],
   "source": [
    "q['vid'].drop_duplicates().to_list()"
   ]
  },
  {
   "cell_type": "code",
   "execution_count": null,
   "id": "1ff065a9-fb76-4375-8724-d646ec310177",
   "metadata": {
    "tags": []
   },
   "outputs": [],
   "source": [
    "from sh import tail\n",
    "import json"
   ]
  },
  {
   "cell_type": "code",
   "execution_count": null,
   "id": "67ea1d52-41f1-4239-82a6-04db9656a931",
   "metadata": {
    "tags": []
   },
   "outputs": [],
   "source": [
    "ds = []\n",
    "for path in q['vid'].drop_duplicates().to_list():\n",
    "    eof = tail('-1', path, _iter=True).next()\n",
    "    ds.append(json.loads(eof))\n",
    "ds"
   ]
  },
  {
   "cell_type": "code",
   "execution_count": null,
   "id": "2f60391c-6388-4817-9572-3655cbbc95d9",
   "metadata": {
    "tags": []
   },
   "outputs": [],
   "source": [
    "! tail -1 '/home/ubuntu/.flor/cornelldbg/2022-01-31T14:11:24.json'"
   ]
  },
  {
   "cell_type": "code",
   "execution_count": null,
   "id": "def556e2",
   "metadata": {},
   "outputs": [],
   "source": [
    "vid_mapper = {'/home/ubuntu/.flor/cornelldbg/2022-01-31T14:11:24.json': \"a05e564bcd4caca42f4c50588537f5b3b84e8470\"}"
   ]
  },
  {
   "cell_type": "code",
   "execution_count": null,
   "id": "c90bc366",
   "metadata": {},
   "outputs": [],
   "source": [
    "q['vid'] = q['vid'].apply(lambda x: vid_mapper[x])"
   ]
  },
  {
   "cell_type": "code",
   "execution_count": null,
   "id": "fd1ac52b",
   "metadata": {},
   "outputs": [],
   "source": [
    "q['vid']"
   ]
  },
  {
   "cell_type": "markdown",
   "id": "60b64e7f-616f-4fd2-8c54-a06de0dd67b0",
   "metadata": {},
   "source": [
    "### Now I want to see some tensorboard logging\n",
    "1. log the loss and show in dashboard // or matplotlib your own\n",
    "2. hindsight log error points and backpropagate.\n"
   ]
  },
  {
   "cell_type": "markdown",
   "id": "c610e8fb-209c-43c4-9492-672a0da2f58c",
   "metadata": {},
   "source": [
    "Let's first get error points"
   ]
  },
  {
   "cell_type": "code",
   "execution_count": null,
   "id": "4dfe0dc7-ae1a-4f84-8510-bbb031dcba8e",
   "metadata": {
    "tags": []
   },
   "outputs": [],
   "source": [
    "!ls"
   ]
  },
  {
   "cell_type": "code",
   "execution_count": null,
   "id": "64fbc202-2b43-4c80-aabe-1c092f32529b",
   "metadata": {},
   "outputs": [],
   "source": [
    "flor.flags.NAME"
   ]
  },
  {
   "cell_type": "code",
   "execution_count": null,
   "id": "e9b4f219-2ceb-4b1f-baea-337ce1d6cd97",
   "metadata": {},
   "outputs": [],
   "source": [
    "flor.flags.INDEX"
   ]
  },
  {
   "cell_type": "code",
   "execution_count": null,
   "id": "0bd53064-c63d-43e1-961f-72a6b549b067",
   "metadata": {},
   "outputs": [],
   "source": [
    "k = '1.loss'"
   ]
  },
  {
   "cell_type": "code",
   "execution_count": null,
   "id": "0af6596e-addd-4ddd-b3b5-0a61645e0ad0",
   "metadata": {},
   "outputs": [],
   "source": [
    "int(k.split('.')[0])"
   ]
  },
  {
   "cell_type": "code",
   "execution_count": null,
   "id": "85565d58-befa-45f9-a794-ddd2ba5d74ec",
   "metadata": {},
   "outputs": [],
   "source": [
    "'.'.join(k.split('.')[1:])"
   ]
  },
  {
   "cell_type": "code",
   "execution_count": null,
   "id": "ccb9a168-e8d1-4642-832b-d428f0a90e56",
   "metadata": {},
   "outputs": [],
   "source": [
    "!cat .replay.json"
   ]
  },
  {
   "cell_type": "code",
   "execution_count": null,
   "id": "539c5ae1-d2bd-412c-beec-e833bc785454",
   "metadata": {},
   "outputs": [],
   "source": []
  },
  {
   "cell_type": "code",
   "execution_count": null,
   "id": "2225f516-4e6f-423f-b750-7cfca3116c3c",
   "metadata": {},
   "outputs": [],
   "source": []
  }
 ],
 "metadata": {
  "interpreter": {
   "hash": "f9dc663c12342db218673069099c5f4d734584a05de3b02b725edaf289dd9612"
  },
  "kernelspec": {
   "display_name": "Environment (conda_pytorch_latest_p37)",
   "language": "python",
   "name": "python3"
  },
  "language_info": {
   "codemirror_mode": {
    "name": "ipython",
    "version": 3
   },
   "file_extension": ".py",
   "mimetype": "text/x-python",
   "name": "python",
   "nbconvert_exporter": "python",
   "pygments_lexer": "ipython3",
   "version": "3.7.10"
  }
 },
 "nbformat": 4,
 "nbformat_minor": 5
}
