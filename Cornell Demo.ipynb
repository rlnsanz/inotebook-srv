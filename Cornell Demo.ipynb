{
 "cells": [
  {
   "cell_type": "code",
   "execution_count": null,
   "id": "13815756",
   "metadata": {},
   "outputs": [],
   "source": [
    "!python cornell_demo.py --flor "
   ]
  },
  {
   "cell_type": "markdown",
   "id": "765e7dab-2419-4e76-bec6-1c1417e5914d",
   "metadata": {},
   "source": [
    "I would like to query the KVS above:\n",
    "1. Get the loss in a plotting format\n",
    "2. Get the accuracy in a plotting format\n",
    "3. Compose (You are now building a dashboard)"
   ]
  },
  {
   "cell_type": "code",
   "execution_count": null,
   "id": "7444530e-5e3a-4d13-886a-360b1bfd9f67",
   "metadata": {},
   "outputs": [],
   "source": [
    "import flor"
   ]
  },
  {
   "cell_type": "code",
   "execution_count": null,
   "id": "cce81ea9-6894-48e6-9236-043b017518ff",
   "metadata": {},
   "outputs": [],
   "source": [
    "base_df = flor.load_kvs()\n",
    "base_df"
   ]
  },
  {
   "cell_type": "code",
   "execution_count": null,
   "id": "f61c912d-6c87-4d51-8a68-f8e3bb0553e7",
   "metadata": {},
   "outputs": [],
   "source": [
    "SELECT = ['vid']\n",
    "FROM = base_df\n",
    "WHERE = (base_df['projid'] == 'cornelldbg') \n",
    "\n",
    "q = FROM.loc[WHERE, SELECT]\n",
    "q"
   ]
  },
  {
   "cell_type": "code",
   "execution_count": null,
   "id": "feb08c17-427d-469e-8e1e-cb892ad813e3",
   "metadata": {},
   "outputs": [],
   "source": [
    "q['vid'].drop_duplicates().to_list()"
   ]
  },
  {
   "cell_type": "code",
   "execution_count": null,
   "id": "1ff065a9-fb76-4375-8724-d646ec310177",
   "metadata": {
    "tags": []
   },
   "outputs": [],
   "source": [
    "from sh import tail\n",
    "import json"
   ]
  },
  {
   "cell_type": "code",
   "execution_count": null,
   "id": "67ea1d52-41f1-4239-82a6-04db9656a931",
   "metadata": {
    "tags": []
   },
   "outputs": [],
   "source": [
    "ds = []\n",
    "for path in q['vid'].drop_duplicates().to_list():\n",
    "    eof = tail('-1', path, _iter=True).next()\n",
    "    ds.append(json.loads(eof))\n",
    "ds"
   ]
  },
  {
   "cell_type": "code",
   "execution_count": null,
   "id": "2f60391c-6388-4817-9572-3655cbbc95d9",
   "metadata": {
    "tags": []
   },
   "outputs": [],
   "source": [
    "! tail -1 '/home/ubuntu/.flor/cornelldbg/2022-01-31T14:11:24.json'"
   ]
  },
  {
   "cell_type": "code",
   "execution_count": null,
   "id": "def556e2",
   "metadata": {},
   "outputs": [],
   "source": [
    "vid_mapper = {'/home/ubuntu/.flor/cornelldbg/2022-01-31T14:11:24.json': \"a05e564bcd4caca42f4c50588537f5b3b84e8470\"}"
   ]
  },
  {
   "cell_type": "code",
   "execution_count": null,
   "id": "c90bc366",
   "metadata": {},
   "outputs": [],
   "source": [
    "q['vid'] = q['vid'].apply(lambda x: vid_mapper[x])"
   ]
  },
  {
   "cell_type": "code",
   "execution_count": null,
   "id": "fd1ac52b",
   "metadata": {},
   "outputs": [],
   "source": [
    "q['vid']"
   ]
  },
  {
   "cell_type": "markdown",
   "id": "60b64e7f-616f-4fd2-8c54-a06de0dd67b0",
   "metadata": {},
   "source": [
    "### Now I want to see some tensorboard logging\n",
    "1. log the loss and show in dashboard // or matplotlib your own\n",
    "2. hindsight log error points and backpropagate.\n"
   ]
  },
  {
   "cell_type": "markdown",
   "id": "c610e8fb-209c-43c4-9492-672a0da2f58c",
   "metadata": {},
   "source": [
    "Let's first get error points"
   ]
  },
  {
   "cell_type": "code",
   "execution_count": null,
   "id": "4dfe0dc7-ae1a-4f84-8510-bbb031dcba8e",
   "metadata": {
    "tags": []
   },
   "outputs": [],
   "source": [
    "!ls"
   ]
  },
  {
   "cell_type": "code",
   "execution_count": null,
   "id": "64fbc202-2b43-4c80-aabe-1c092f32529b",
   "metadata": {},
   "outputs": [],
   "source": [
    "flor.flags.NAME"
   ]
  },
  {
   "cell_type": "code",
   "execution_count": null,
   "id": "e9b4f219-2ceb-4b1f-baea-337ce1d6cd97",
   "metadata": {},
   "outputs": [],
   "source": [
    "flor.flags.INDEX"
   ]
  },
  {
   "cell_type": "code",
   "execution_count": null,
   "id": "0bd53064-c63d-43e1-961f-72a6b549b067",
   "metadata": {},
   "outputs": [],
   "source": [
    "k = '1.loss'"
   ]
  },
  {
   "cell_type": "code",
   "execution_count": null,
   "id": "0af6596e-addd-4ddd-b3b5-0a61645e0ad0",
   "metadata": {},
   "outputs": [],
   "source": [
    "int(k.split('.')[0])"
   ]
  },
  {
   "cell_type": "code",
   "execution_count": null,
   "id": "85565d58-befa-45f9-a794-ddd2ba5d74ec",
   "metadata": {},
   "outputs": [],
   "source": [
    "'.'.join(k.split('.')[1:])"
   ]
  },
  {
   "cell_type": "code",
   "execution_count": null,
   "id": "ccb9a168-e8d1-4642-832b-d428f0a90e56",
   "metadata": {},
   "outputs": [],
   "source": [
    "!cat .replay.json"
   ]
  },
  {
   "cell_type": "code",
   "execution_count": null,
   "id": "539c5ae1-d2bd-412c-beec-e833bc785454",
   "metadata": {},
   "outputs": [],
   "source": []
  },
  {
   "cell_type": "code",
   "execution_count": null,
   "id": "2225f516-4e6f-423f-b750-7cfca3116c3c",
   "metadata": {},
   "outputs": [],
   "source": []
  }
 ],
 "metadata": {
  "interpreter": {
   "hash": "f9dc663c12342db218673069099c5f4d734584a05de3b02b725edaf289dd9612"
  },
  "kernelspec": {
   "display_name": "Environment (conda_pytorch_latest_p37)",
   "language": "python",
   "name": "python3"
  },
  "language_info": {
   "codemirror_mode": {
    "name": "ipython",
    "version": 3
   },
   "file_extension": ".py",
   "mimetype": "text/x-python",
   "name": "python",
   "nbconvert_exporter": "python",
   "pygments_lexer": "ipython3",
   "version": "3.7.10"
  }
 },
 "nbformat": 4,
 "nbformat_minor": 5
}
