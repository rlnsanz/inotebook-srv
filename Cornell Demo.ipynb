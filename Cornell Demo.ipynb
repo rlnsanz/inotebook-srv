{
 "cells": [
  {
   "cell_type": "code",
   "execution_count": null,
   "id": "e146e5fc",
   "metadata": {},
   "outputs": [],
   "source": [
    "!python cornell_demo.py --replay_flor"
   ]
  },
  {
   "cell_type": "code",
   "execution_count": null,
   "id": "f94f8f16",
   "metadata": {},
   "outputs": [],
   "source": [
    "!python cornell_demo.py --flor cornell-demo"
   ]
  },
  {
   "cell_type": "code",
   "execution_count": null,
   "id": "5e2423d1",
   "metadata": {},
   "outputs": [],
   "source": [
    "!git status"
   ]
  },
  {
   "cell_type": "code",
   "execution_count": null,
   "id": "d88eab7f",
   "metadata": {},
   "outputs": [],
   "source": [
    "!git log"
   ]
  },
  {
   "cell_type": "code",
   "execution_count": null,
   "id": "e2c5b336",
   "metadata": {},
   "outputs": [],
   "source": [
    "# There was a new commit above, let's look at its results with flor replay."
   ]
  },
  {
   "cell_type": "code",
   "execution_count": null,
   "id": "26299d7e",
   "metadata": {
    "scrolled": true
   },
   "outputs": [],
   "source": [
    "!python cornell_demo.py --replay_flor"
   ]
  },
  {
   "cell_type": "code",
   "execution_count": null,
   "id": "9de2c973",
   "metadata": {},
   "outputs": [],
   "source": [
    "# Why is the test set accuracy so high? After the first epoch we have 99% accuracy?! Yeah, that's what the earlier record shows.\n",
    "# Also, let's verify the parallelism below:"
   ]
  },
  {
   "cell_type": "code",
   "execution_count": null,
   "id": "cb27bb77",
   "metadata": {
    "scrolled": true
   },
   "outputs": [],
   "source": [
    "!python cornell_demo.py --replay_flor 14/14 --dry_run"
   ]
  },
  {
   "cell_type": "code",
   "execution_count": null,
   "id": "f56477a8",
   "metadata": {},
   "outputs": [],
   "source": [
    "# Expect: full last portion of the logs.\n",
    "\n",
    "# Ok, and what do I do next? Well... let's do some ACTUAL hindsight logging.\n",
    "#----------------1. For starters, I want to see the loss curves and the accuracy curves with WandB (maybe matplotlib since it's open source and Jupyter friendly -- but I could use the others)\n",
    "# View the tensor histograms, ask THEM what hindsight log to add, ask the viewers\n",
    "# Show them your full range of queries\n",
    "#----------------1. DRY RUN\n",
    "#----------------2. PARALLEL and PARTIAL (selective)\n",
    "#----------------3. SKIP RUN (Skipblock)\n",
    "# (Oh man, that's quite the physical query algebra... wouldn't it be better if we could ask with SQL?)\n",
    "# Well, what do you mean?"
   ]
  },
  {
   "cell_type": "code",
   "execution_count": null,
   "id": "c1210553",
   "metadata": {},
   "outputs": [],
   "source": [
    "# OOPS I overwrote an earlier cell..."
   ]
  },
  {
   "cell_type": "code",
   "execution_count": null,
   "id": "d9ea939f",
   "metadata": {},
   "outputs": [],
   "source": [
    "!python cornell_demo.py --replay_flor 14/14 --dry-run"
   ]
  },
  {
   "cell_type": "code",
   "execution_count": null,
   "id": "c2a63787",
   "metadata": {},
   "outputs": [],
   "source": [
    "!python cornell_demo.py --replay_flor --dry_run"
   ]
  },
  {
   "cell_type": "code",
   "execution_count": null,
   "id": "d92690b6",
   "metadata": {},
   "outputs": [],
   "source": [
    "!python cornell_demo.py --replay_flor --dry-run"
   ]
  },
  {
   "cell_type": "code",
   "execution_count": null,
   "id": "e9acddab",
   "metadata": {},
   "outputs": [],
   "source": [
    "!python cornell_demo.py --replay_flor 1/14 --dry-run"
   ]
  },
  {
   "cell_type": "code",
   "execution_count": null,
   "id": "d3ce594b",
   "metadata": {},
   "outputs": [],
   "source": [
    "!python cornell_demo.py --replay_flor "
   ]
  },
  {
   "cell_type": "code",
   "execution_count": null,
   "id": "4a157c62",
   "metadata": {},
   "outputs": [],
   "source": [
    "# ANYTHING THAT YOU PRINT SHOULD ALSO ADD A FACT TABLE\n",
    "# FLOR SHOULD HAVE PRINT AND INTERCEPT CAPABILITIES, Semi-coco"
   ]
  },
  {
   "cell_type": "code",
   "execution_count": null,
   "id": "f5000452",
   "metadata": {},
   "outputs": [
    {
     "name": "stdout",
     "output_type": "stream",
     "text": [
      "/bin/bash: switchml: line 1: syntax error: unexpected end of file\n",
      "/bin/bash: error importing function definition for `switchml'\n",
      "/bin/bash: _moduleraw: line 1: syntax error: unexpected end of file\n",
      "/bin/bash: error importing function definition for `_moduleraw'\n"
     ]
    }
   ],
   "source": [
    "!python cornell_demo.py --flor cornell-demo"
   ]
  },
  {
   "cell_type": "code",
   "execution_count": null,
   "id": "b07f0fb3-f105-4b12-8dd9-03d7e15664ab",
   "metadata": {},
   "outputs": [],
   "source": []
  }
 ],
 "metadata": {
  "kernelspec": {
   "display_name": "Environment (conda_pytorch_latest_p37)",
   "language": "python",
   "name": "conda_pytorch_latest_p37"
  },
  "language_info": {
   "codemirror_mode": {
    "name": "ipython",
    "version": 3
   },
   "file_extension": ".py",
   "mimetype": "text/x-python",
   "name": "python",
   "nbconvert_exporter": "python",
   "pygments_lexer": "ipython3",
   "version": "3.7.10"
  }
 },
 "nbformat": 4,
 "nbformat_minor": 5
}
